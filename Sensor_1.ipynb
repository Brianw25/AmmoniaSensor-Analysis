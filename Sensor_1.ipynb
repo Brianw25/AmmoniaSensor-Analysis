{
 "cells": [
  {
   "cell_type": "code",
   "execution_count": 1,
   "id": "twenty-devon",
   "metadata": {},
   "outputs": [],
   "source": [
    "import numpy as np\n",
    "import scipy.constants as const\n",
    "import uncertainties as unc\n",
    "import matplotlib.pyplot as plt\n",
    "import pandas as pd\n",
    "import datetime\n",
    "from datetime import date\n",
    "from scipy.ndimage import gaussian_filter1d\n",
    "%matplotlib inline"
   ]
  },
  {
   "cell_type": "code",
   "execution_count": 1,
   "id": "understanding-mouse",
   "metadata": {},
   "outputs": [
    {
     "ename": "NameError",
     "evalue": "name 'pd' is not defined",
     "output_type": "error",
     "traceback": [
      "\u001b[1;31m---------------------------------------------------------------------------\u001b[0m",
      "\u001b[1;31mNameError\u001b[0m                                 Traceback (most recent call last)",
      "\u001b[1;32m<ipython-input-1-8b617a9a5afd>\u001b[0m in \u001b[0;36m<module>\u001b[1;34m\u001b[0m\n\u001b[1;32m----> 1\u001b[1;33m \u001b[0mdf\u001b[0m \u001b[1;33m=\u001b[0m \u001b[0mpd\u001b[0m\u001b[1;33m.\u001b[0m\u001b[0mread_excel\u001b[0m\u001b[1;33m(\u001b[0m\u001b[1;34m'Multi_sensor_ammonia_readings.xlsx'\u001b[0m\u001b[1;33m)\u001b[0m\u001b[1;33m\u001b[0m\u001b[1;33m\u001b[0m\u001b[0m\n\u001b[0m\u001b[0;32m      2\u001b[0m \u001b[0mdf\u001b[0m\u001b[1;33m[\u001b[0m\u001b[1;34m'TIME'\u001b[0m\u001b[1;33m]\u001b[0m \u001b[1;33m=\u001b[0m \u001b[1;33m[\u001b[0m\u001b[0mdatetime\u001b[0m\u001b[1;33m.\u001b[0m\u001b[0mdatetime\u001b[0m\u001b[1;33m.\u001b[0m\u001b[0mcombine\u001b[0m\u001b[1;33m(\u001b[0m\u001b[0mdatetime\u001b[0m\u001b[1;33m.\u001b[0m\u001b[0mdate\u001b[0m\u001b[1;33m.\u001b[0m\u001b[0mtoday\u001b[0m\u001b[1;33m(\u001b[0m\u001b[1;33m)\u001b[0m\u001b[1;33m,\u001b[0m \u001b[0mt\u001b[0m\u001b[1;33m)\u001b[0m \u001b[1;32mfor\u001b[0m \u001b[0mt\u001b[0m \u001b[1;32min\u001b[0m \u001b[0mdf\u001b[0m\u001b[1;33m[\u001b[0m\u001b[1;34m'TIME'\u001b[0m\u001b[1;33m]\u001b[0m\u001b[1;33m]\u001b[0m\u001b[1;33m\u001b[0m\u001b[1;33m\u001b[0m\u001b[0m\n\u001b[0;32m      3\u001b[0m \u001b[0mdf\u001b[0m\u001b[1;33m.\u001b[0m\u001b[0mhead\u001b[0m\u001b[1;33m(\u001b[0m\u001b[1;33m)\u001b[0m\u001b[1;33m\u001b[0m\u001b[1;33m\u001b[0m\u001b[0m\n",
      "\u001b[1;31mNameError\u001b[0m: name 'pd' is not defined"
     ]
    }
   ],
   "source": [
    "df = pd.read_excel('AM.xlsx')\n",
    "df['TIME'] = [datetime.datetime.combine(datetime.date.today(), t) for t in df['TIME']]\n",
    "df.head()"
   ]
  },
  {
   "cell_type": "code",
   "execution_count": 3,
   "id": "danish-affect",
   "metadata": {},
   "outputs": [],
   "source": [
    "def ad_adj(x):\n",
    "    Datetimes =[]\n",
    "    Values = []\n",
    "    for i in x:\n",
    "        Datetimes.append(i[0:11])\n",
    "        Values.append(i[16:])\n",
    "    return [Datetimes,Values]\n",
    "        "
   ]
  },
  {
   "cell_type": "code",
   "execution_count": 4,
   "id": "incoming-business",
   "metadata": {},
   "outputs": [
    {
     "data": {
      "text/plain": [
       "TIME          object\n",
       "Resistance    object\n",
       "dtype: object"
      ]
     },
     "execution_count": 4,
     "metadata": {},
     "output_type": "execute_result"
    }
   ],
   "source": [
    "dat = pd.read_csv('Test 1.csv')\n",
    "sensor_data = pd.DataFrame(np.array(ad_adj(dat.Time.values)).T, columns = ['TIME','Resistance'])\n",
    "sensor_data.dtypes"
   ]
  },
  {
   "cell_type": "code",
   "execution_count": 5,
   "id": "compact-patrick",
   "metadata": {},
   "outputs": [
    {
     "data": {
      "text/html": [
       "<div>\n",
       "<style scoped>\n",
       "    .dataframe tbody tr th:only-of-type {\n",
       "        vertical-align: middle;\n",
       "    }\n",
       "\n",
       "    .dataframe tbody tr th {\n",
       "        vertical-align: top;\n",
       "    }\n",
       "\n",
       "    .dataframe thead th {\n",
       "        text-align: right;\n",
       "    }\n",
       "</style>\n",
       "<table border=\"1\" class=\"dataframe\">\n",
       "  <thead>\n",
       "    <tr style=\"text-align: right;\">\n",
       "      <th></th>\n",
       "      <th>TIME</th>\n",
       "      <th>Resistance</th>\n",
       "    </tr>\n",
       "  </thead>\n",
       "  <tbody>\n",
       "    <tr>\n",
       "      <th>0</th>\n",
       "      <td>2021-05-20 15:06:32.920</td>\n",
       "      <td>35054600.00</td>\n",
       "    </tr>\n",
       "    <tr>\n",
       "      <th>1</th>\n",
       "      <td>2021-05-20 15:06:33.420</td>\n",
       "      <td>35054600.00</td>\n",
       "    </tr>\n",
       "    <tr>\n",
       "      <th>2</th>\n",
       "      <td>2021-05-20 15:06:33.940</td>\n",
       "      <td>35054600.00</td>\n",
       "    </tr>\n",
       "    <tr>\n",
       "      <th>3</th>\n",
       "      <td>2021-05-20 15:06:34.440</td>\n",
       "      <td>70177800.00</td>\n",
       "    </tr>\n",
       "    <tr>\n",
       "      <th>4</th>\n",
       "      <td>2021-05-20 15:06:34.950</td>\n",
       "      <td>70177800.00</td>\n",
       "    </tr>\n",
       "    <tr>\n",
       "      <th>5</th>\n",
       "      <td>2021-05-20 15:06:35.460</td>\n",
       "      <td>23346868.00</td>\n",
       "    </tr>\n",
       "    <tr>\n",
       "      <th>6</th>\n",
       "      <td>2021-05-20 15:06:35.930</td>\n",
       "      <td>70177800.00</td>\n",
       "    </tr>\n",
       "    <tr>\n",
       "      <th>7</th>\n",
       "      <td>2021-05-20 15:06:36.470</td>\n",
       "      <td>23346868.00</td>\n",
       "    </tr>\n",
       "    <tr>\n",
       "      <th>8</th>\n",
       "      <td>2021-05-20 15:06:36.960</td>\n",
       "      <td>23346868.00</td>\n",
       "    </tr>\n",
       "    <tr>\n",
       "      <th>9</th>\n",
       "      <td>2021-05-20 15:06:37.470</td>\n",
       "      <td>35054600.00</td>\n",
       "    </tr>\n",
       "    <tr>\n",
       "      <th>10</th>\n",
       "      <td>2021-05-20 15:06:37.960</td>\n",
       "      <td>17493000.00</td>\n",
       "    </tr>\n",
       "    <tr>\n",
       "      <th>11</th>\n",
       "      <td>2021-05-20 15:06:38.470</td>\n",
       "      <td>33800.00</td>\n",
       "    </tr>\n",
       "    <tr>\n",
       "      <th>12</th>\n",
       "      <td>2021-05-20 15:06:38.960</td>\n",
       "      <td>33800.00</td>\n",
       "    </tr>\n",
       "    <tr>\n",
       "      <th>13</th>\n",
       "      <td>2021-05-20 15:06:39.470</td>\n",
       "      <td>33800.00</td>\n",
       "    </tr>\n",
       "    <tr>\n",
       "      <th>14</th>\n",
       "      <td>2021-05-20 15:06:39.970</td>\n",
       "      <td>33800.00</td>\n",
       "    </tr>\n",
       "    <tr>\n",
       "      <th>15</th>\n",
       "      <td>2021-05-20 15:06:40.470</td>\n",
       "      <td>33949.48</td>\n",
       "    </tr>\n",
       "    <tr>\n",
       "      <th>16</th>\n",
       "      <td>2021-05-20 15:06:40.960</td>\n",
       "      <td>33650.95</td>\n",
       "    </tr>\n",
       "    <tr>\n",
       "      <th>17</th>\n",
       "      <td>2021-05-20 15:06:41.460</td>\n",
       "      <td>33800.00</td>\n",
       "    </tr>\n",
       "    <tr>\n",
       "      <th>18</th>\n",
       "      <td>2021-05-20 15:06:41.980</td>\n",
       "      <td>70177800.00</td>\n",
       "    </tr>\n",
       "    <tr>\n",
       "      <th>19</th>\n",
       "      <td>2021-05-20 15:06:42.470</td>\n",
       "      <td>35054600.00</td>\n",
       "    </tr>\n",
       "  </tbody>\n",
       "</table>\n",
       "</div>"
      ],
      "text/plain": [
       "                      TIME   Resistance\n",
       "0  2021-05-20 15:06:32.920  35054600.00\n",
       "1  2021-05-20 15:06:33.420  35054600.00\n",
       "2  2021-05-20 15:06:33.940  35054600.00\n",
       "3  2021-05-20 15:06:34.440  70177800.00\n",
       "4  2021-05-20 15:06:34.950  70177800.00\n",
       "5  2021-05-20 15:06:35.460  23346868.00\n",
       "6  2021-05-20 15:06:35.930  70177800.00\n",
       "7  2021-05-20 15:06:36.470  23346868.00\n",
       "8  2021-05-20 15:06:36.960  23346868.00\n",
       "9  2021-05-20 15:06:37.470  35054600.00\n",
       "10 2021-05-20 15:06:37.960  17493000.00\n",
       "11 2021-05-20 15:06:38.470     33800.00\n",
       "12 2021-05-20 15:06:38.960     33800.00\n",
       "13 2021-05-20 15:06:39.470     33800.00\n",
       "14 2021-05-20 15:06:39.970     33800.00\n",
       "15 2021-05-20 15:06:40.470     33949.48\n",
       "16 2021-05-20 15:06:40.960     33650.95\n",
       "17 2021-05-20 15:06:41.460     33800.00\n",
       "18 2021-05-20 15:06:41.980  70177800.00\n",
       "19 2021-05-20 15:06:42.470  35054600.00"
      ]
     },
     "execution_count": 5,
     "metadata": {},
     "output_type": "execute_result"
    }
   ],
   "source": [
    "from datetime import datetime, timedelta\n",
    "sensor_data['Resistance'] = sensor_data['Resistance'].astype(float)\n",
    "sensor_data['Resistance'] = sensor_data['Resistance']\n",
    "sensor_data['TIME'] = pd.to_datetime(sensor_data['TIME'])\n",
    "sensor_data['TIME'] = sensor_data['TIME'] + timedelta(minutes = 12)\n",
    "sensor_data = sensor_data[(sensor_data[['TIME','Resistance']] != 0).all(axis=1)]\n",
    "sensor_data.head(20)"
   ]
  },
  {
   "cell_type": "code",
   "execution_count": 6,
   "id": "waiting-newspaper",
   "metadata": {},
   "outputs": [
    {
     "data": {
      "text/html": [
       "<div>\n",
       "<style scoped>\n",
       "    .dataframe tbody tr th:only-of-type {\n",
       "        vertical-align: middle;\n",
       "    }\n",
       "\n",
       "    .dataframe tbody tr th {\n",
       "        vertical-align: top;\n",
       "    }\n",
       "\n",
       "    .dataframe thead th {\n",
       "        text-align: right;\n",
       "    }\n",
       "</style>\n",
       "<table border=\"1\" class=\"dataframe\">\n",
       "  <thead>\n",
       "    <tr style=\"text-align: right;\">\n",
       "      <th></th>\n",
       "      <th>TIME</th>\n",
       "      <th>Resistance</th>\n",
       "    </tr>\n",
       "  </thead>\n",
       "  <tbody>\n",
       "    <tr>\n",
       "      <th>11</th>\n",
       "      <td>2021-05-20 15:06:38.470</td>\n",
       "      <td>33800.00</td>\n",
       "    </tr>\n",
       "    <tr>\n",
       "      <th>4584</th>\n",
       "      <td>2021-05-20 15:06:38.470</td>\n",
       "      <td>33800.00</td>\n",
       "    </tr>\n",
       "    <tr>\n",
       "      <th>4585</th>\n",
       "      <td>2021-05-20 15:06:38.960</td>\n",
       "      <td>33800.00</td>\n",
       "    </tr>\n",
       "    <tr>\n",
       "      <th>12</th>\n",
       "      <td>2021-05-20 15:06:38.960</td>\n",
       "      <td>33800.00</td>\n",
       "    </tr>\n",
       "    <tr>\n",
       "      <th>13</th>\n",
       "      <td>2021-05-20 15:06:39.470</td>\n",
       "      <td>33800.00</td>\n",
       "    </tr>\n",
       "    <tr>\n",
       "      <th>4586</th>\n",
       "      <td>2021-05-20 15:06:39.470</td>\n",
       "      <td>33800.00</td>\n",
       "    </tr>\n",
       "    <tr>\n",
       "      <th>14</th>\n",
       "      <td>2021-05-20 15:06:39.970</td>\n",
       "      <td>33800.00</td>\n",
       "    </tr>\n",
       "    <tr>\n",
       "      <th>4587</th>\n",
       "      <td>2021-05-20 15:06:39.970</td>\n",
       "      <td>33800.00</td>\n",
       "    </tr>\n",
       "    <tr>\n",
       "      <th>15</th>\n",
       "      <td>2021-05-20 15:06:40.470</td>\n",
       "      <td>33949.48</td>\n",
       "    </tr>\n",
       "    <tr>\n",
       "      <th>4588</th>\n",
       "      <td>2021-05-20 15:06:40.470</td>\n",
       "      <td>33949.48</td>\n",
       "    </tr>\n",
       "    <tr>\n",
       "      <th>4589</th>\n",
       "      <td>2021-05-20 15:06:40.960</td>\n",
       "      <td>33650.95</td>\n",
       "    </tr>\n",
       "    <tr>\n",
       "      <th>16</th>\n",
       "      <td>2021-05-20 15:06:40.960</td>\n",
       "      <td>33650.95</td>\n",
       "    </tr>\n",
       "    <tr>\n",
       "      <th>4590</th>\n",
       "      <td>2021-05-20 15:06:41.460</td>\n",
       "      <td>33800.00</td>\n",
       "    </tr>\n",
       "    <tr>\n",
       "      <th>17</th>\n",
       "      <td>2021-05-20 15:06:41.460</td>\n",
       "      <td>33800.00</td>\n",
       "    </tr>\n",
       "    <tr>\n",
       "      <th>4622</th>\n",
       "      <td>2021-05-20 15:06:57.570</td>\n",
       "      <td>33800.00</td>\n",
       "    </tr>\n",
       "    <tr>\n",
       "      <th>49</th>\n",
       "      <td>2021-05-20 15:06:57.570</td>\n",
       "      <td>33800.00</td>\n",
       "    </tr>\n",
       "    <tr>\n",
       "      <th>4623</th>\n",
       "      <td>2021-05-20 15:06:58.070</td>\n",
       "      <td>33800.00</td>\n",
       "    </tr>\n",
       "    <tr>\n",
       "      <th>50</th>\n",
       "      <td>2021-05-20 15:06:58.070</td>\n",
       "      <td>33800.00</td>\n",
       "    </tr>\n",
       "    <tr>\n",
       "      <th>4624</th>\n",
       "      <td>2021-05-20 15:06:58.550</td>\n",
       "      <td>33800.00</td>\n",
       "    </tr>\n",
       "    <tr>\n",
       "      <th>51</th>\n",
       "      <td>2021-05-20 15:06:58.550</td>\n",
       "      <td>33800.00</td>\n",
       "    </tr>\n",
       "  </tbody>\n",
       "</table>\n",
       "</div>"
      ],
      "text/plain": [
       "                        TIME  Resistance\n",
       "11   2021-05-20 15:06:38.470    33800.00\n",
       "4584 2021-05-20 15:06:38.470    33800.00\n",
       "4585 2021-05-20 15:06:38.960    33800.00\n",
       "12   2021-05-20 15:06:38.960    33800.00\n",
       "13   2021-05-20 15:06:39.470    33800.00\n",
       "4586 2021-05-20 15:06:39.470    33800.00\n",
       "14   2021-05-20 15:06:39.970    33800.00\n",
       "4587 2021-05-20 15:06:39.970    33800.00\n",
       "15   2021-05-20 15:06:40.470    33949.48\n",
       "4588 2021-05-20 15:06:40.470    33949.48\n",
       "4589 2021-05-20 15:06:40.960    33650.95\n",
       "16   2021-05-20 15:06:40.960    33650.95\n",
       "4590 2021-05-20 15:06:41.460    33800.00\n",
       "17   2021-05-20 15:06:41.460    33800.00\n",
       "4622 2021-05-20 15:06:57.570    33800.00\n",
       "49   2021-05-20 15:06:57.570    33800.00\n",
       "4623 2021-05-20 15:06:58.070    33800.00\n",
       "50   2021-05-20 15:06:58.070    33800.00\n",
       "4624 2021-05-20 15:06:58.550    33800.00\n",
       "51   2021-05-20 15:06:58.550    33800.00"
      ]
     },
     "execution_count": 6,
     "metadata": {},
     "output_type": "execute_result"
    }
   ],
   "source": [
    "sensor_data = sensor_data[sensor_data['Resistance'] < 70000] \n",
    "sensor_data = sensor_data[sensor_data['Resistance'] > 25000] \n",
    "sensor_data = sensor_data.sort_values(by = 'TIME')\n",
    "sensor_data.head(20)"
   ]
  },
  {
   "cell_type": "code",
   "execution_count": 7,
   "id": "portable-pantyhose",
   "metadata": {},
   "outputs": [],
   "source": [
    "from scipy.signal import savgol_filter\n",
    "sensor_data['Resistance_Smooth'] = gaussian_filter1d(sensor_data['Resistance'], 30)"
   ]
  },
  {
   "cell_type": "code",
   "execution_count": 8,
   "id": "sacred-ballet",
   "metadata": {},
   "outputs": [],
   "source": [
    "df = df[ df['TIME'] > sensor_data['TIME'].iloc[0]]\n",
    "df = df[ df['TIME'] < sensor_data['TIME'].iloc[-1]]"
   ]
  },
  {
   "cell_type": "code",
   "execution_count": 50,
   "id": "portable-equilibrium",
   "metadata": {},
   "outputs": [
    {
     "name": "stderr",
     "output_type": "stream",
     "text": [
      "<ipython-input-50-4f9341938c3e>:12: UserWarning: FixedFormatter should only be used together with FixedLocator\n",
      "  ax2.set_xticklabels([0,5,10,15,20,25,30,35,40])\n"
     ]
    },
    {
     "data": {
      "text/plain": [
       "<matplotlib.legend.Legend at 0x7f990660f8e0>"
      ]
     },
     "execution_count": 50,
     "metadata": {},
     "output_type": "execute_result"
    },
    {
     "data": {
      "image/png": "[encoded data removed]",
      "text/plain": [
       "<Figure size 720x720 with 2 Axes>"
      ]
     },
     "metadata": {
      "needs_background": "light"
     },
     "output_type": "display_data"
    }
   ],
   "source": [
    "fig, ax1 = plt.subplots(figsize = (10,10))\n",
    "ax2 = ax1.twinx()\n",
    "ax1.grid()\n",
    "ax1.plot(df['TIME'],df['NH3_raw'],'-k', label = 'Ammonia Concentraiton', linewidth = 5) #Piccaro\n",
    "ax2.plot(sensor_data['TIME'],sensor_data['Resistance_Smooth']/1000,'--c',label = 'Sensor Resistance', linewidth = 5)#Sensor\n",
    "#ax1.set_title('Sensor Response', fontsize = 32, fontweight ='bold')\n",
    "ax1.set_ylabel('Concentration (PPB)',fontsize = 22)\n",
    "ax2.set_ylabel('Resistance (k\\u03A9)',fontsize = 22)\n",
    "ax1.tick_params( labelsize=20)\n",
    "ax2.tick_params( labelsize=20)\n",
    "ax1.set_xlabel('Time (min)',fontsize = 22)\n",
    "ax2.set_xticklabels([0,5,10,15,20,25,30,35,40])\n",
    "fig.legend(loc='upper left', bbox_to_anchor=(.15, .85), fontsize = 18)"
   ]
  },
  {
   "cell_type": "code",
   "execution_count": 13,
   "id": "dutch-lancaster",
   "metadata": {},
   "outputs": [
    {
     "data": {
      "text/plain": [
       "Timedelta('0 days 00:38:06.700000')"
      ]
     },
     "execution_count": 13,
     "metadata": {},
     "output_type": "execute_result"
    }
   ],
   "source": [
    "sensor_data['TIME'].iloc[-1] - sensor_data['TIME'].iloc[0]"
   ]
  },
  {
   "cell_type": "code",
   "execution_count": null,
   "id": "passive-absolute",
   "metadata": {},
   "outputs": [],
   "source": []
  }
 ],
 "metadata": {
  "kernelspec": {
   "display_name": "Python 3",
   "language": "python",
   "name": "python3"
  },
  "language_info": {
   "codemirror_mode": {
    "name": "ipython",
    "version": 3
   },
   "file_extension": ".py",
   "mimetype": "text/x-python",
   "name": "python",
   "nbconvert_exporter": "python",
   "pygments_lexer": "ipython3",
   "version": "3.9.1"
  }
 },
 "nbformat": 4,
 "nbformat_minor": 5
}
